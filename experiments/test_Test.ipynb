{
 "cells": [
  {
   "cell_type": "code",
   "execution_count": 15,
   "id": "52fb3fe2-baa2-4f46-9bad-882515bdc6e6",
   "metadata": {},
   "outputs": [
    {
     "name": "stderr",
     "output_type": "stream",
     "text": [
      "(ChipWhisperer Scope ERROR|File naeusbchip.py:108) Scope already disconnected!\n"
     ]
    }
   ],
   "source": [
    "scope.dis()\n",
    "target.dis()"
   ]
  },
  {
   "cell_type": "code",
   "execution_count": 4,
   "id": "3c76cb03-a17f-4634-b7cb-d3420461607a",
   "metadata": {},
   "outputs": [],
   "source": [
    "exit()"
   ]
  },
  {
   "cell_type": "code",
   "execution_count": 3,
   "id": "f7b3c940-4053-4cc4-979a-f911bfffcdbb",
   "metadata": {},
   "outputs": [],
   "source": [
    "import chipwhisperer as cw\n",
    "import sys\n",
    "sys.path.append(\"../imports\")\n",
    "from helpers import *\n",
    "from scheme import Scheme\n",
    "from taskers import *\n",
    "\n",
    "scope = cw.scope()\n",
    "target = cw.target(scope, cw.targets.SimpleSerial)\n",
    "scope.default_setup()"
   ]
  },
  {
   "cell_type": "code",
   "execution_count": 3,
   "id": "ad8df0c3-1295-4f05-8909-5523a64efa55",
   "metadata": {},
   "outputs": [
    {
     "name": "stdout",
     "output_type": "stream",
     "text": [
      "Detected known STMF32: STM32F302xB(C)/303xB(C)\n",
      "Extended erase (0x44), this can take ten seconds or more\n",
      "Attempting to program 12355 bytes at 0x8000000\n",
      "STM32F Programming flash...\n",
      "STM32F Reading flash...\n",
      "Verified flash OK, 12355 bytes\n"
     ]
    }
   ],
   "source": [
    "load(scope, \"masked-decode-inside\", None)"
   ]
  },
  {
   "cell_type": "code",
   "execution_count": 13,
   "id": "25e00149-4777-4e5b-b4e6-e292e38dc5dc",
   "metadata": {},
   "outputs": [],
   "source": [
    "scope.default_setup()\n",
    "scope.adc.samples=24400\n",
    "scope.clock.adc_src = \"clkgen_x1\"\n",
    "scope.adc.decimate = 2"
   ]
  },
  {
   "cell_type": "code",
   "execution_count": 12,
   "id": "f0c29691-b22b-403b-bee4-b382e478020f",
   "metadata": {},
   "outputs": [
    {
     "name": "stdout",
     "output_type": "stream",
     "text": [
      "Detected known STMF32: STM32F302xB(C)/303xB(C)\n",
      "Extended erase (0x44), this can take ten seconds or more\n",
      "Attempting to program 12443 bytes at 0x8000000\n",
      "STM32F Programming flash...\n",
      "STM32F Reading flash...\n",
      "Verified flash OK, 12443 bytes\n",
      "40577\n"
     ]
    }
   ],
   "source": [
    "load(scope, \"masked-decode-inside-test\", None)\n",
    "time.sleep(0.1)\n",
    "target.flush()\n",
    "scope.arm()\n",
    "w = [0, 0, 0, 0, 0, 0] + [0 for i in range(250)]\n",
    "target.simpleserial_write('p', get_bytes(w))\n",
    "ret = scope.capture()\n",
    "if ret:\n",
    "    print(\"ERROR\")\n",
    "traces_ = scope.get_last_trace()\n",
    "db = target.simpleserial_read('r', 16)\n",
    "print(scope.adc.trig_count)\n"
   ]
  },
  {
   "cell_type": "code",
   "execution_count": 6,
   "id": "f8815e1e-0ad0-42ae-b419-007dfb523d34",
   "metadata": {},
   "outputs": [
    {
     "data": {
      "text/plain": [
       "bytearray(b'\\x00\\x00\\x00\\x00')"
      ]
     },
     "execution_count": 6,
     "metadata": {},
     "output_type": "execute_result"
    }
   ],
   "source": [
    "posture(target,'a', bytearray([0]*4), 4)"
   ]
  },
  {
   "cell_type": "code",
   "execution_count": 16,
   "id": "bbba34e3-41d3-4bbe-b34e-54ec4f3103f0",
   "metadata": {},
   "outputs": [
    {
     "ename": "AttributeError",
     "evalue": "'NoneType' object has no attribute 'controlWrite'",
     "output_type": "error",
     "traceback": [
      "\u001b[1;31m---------------------------------------------------------------------------\u001b[0m",
      "\u001b[1;31mAttributeError\u001b[0m                            Traceback (most recent call last)",
      "Cell \u001b[1;32mIn[16], line 70\u001b[0m\n\u001b[0;32m     68\u001b[0m env\u001b[38;5;241m.\u001b[39msubfolder \u001b[38;5;241m=\u001b[39m \u001b[38;5;124m\"\u001b[39m\u001b[38;5;124mtest\u001b[39m\u001b[38;5;124m\"\u001b[39m \u001b[38;5;66;03m# subfolder name\u001b[39;00m\n\u001b[0;32m     69\u001b[0m env\u001b[38;5;241m.\u001b[39mTRACES_NUM \u001b[38;5;241m=\u001b[39m \u001b[38;5;241m100\u001b[39m \u001b[38;5;66;03m# number of traces\u001b[39;00m\n\u001b[1;32m---> 70\u001b[0m \u001b[43mscope\u001b[49m\u001b[38;5;241;43m.\u001b[39;49m\u001b[43madc\u001b[49m\u001b[38;5;241;43m.\u001b[39;49m\u001b[43msamples\u001b[49m \u001b[38;5;241m=\u001b[39m \u001b[38;5;241m24400\u001b[39m \u001b[38;5;66;03m# number of samples per execution\u001b[39;00m\n\u001b[0;32m     71\u001b[0m env\u001b[38;5;241m.\u001b[39msegments \u001b[38;5;241m=\u001b[39m \u001b[38;5;241m3\u001b[39m \u001b[38;5;66;03m# number of samples per trace\u001b[39;00m\n\u001b[0;32m     72\u001b[0m env\u001b[38;5;241m.\u001b[39msimulate \u001b[38;5;241m=\u001b[39m \u001b[38;5;28;01mFalse\u001b[39;00m \u001b[38;5;66;03m# doesnt do anything for now. should be False\u001b[39;00m\n",
      "File \u001b[1;32mF:\\programs\\ChipWhisperer5_64\\cw\\home\\portable\\WPy64-31080\\python-3.10.8.amd64\\lib\\site-packages\\chipwhisperer\\common\\utils\\util.py:367\u001b[0m, in \u001b[0;36mDisableNewAttr.__setattr__\u001b[1;34m(self, name, value)\u001b[0m\n\u001b[0;32m    365\u001b[0m \u001b[38;5;28;01mif\u001b[39;00m name \u001b[38;5;129;01min\u001b[39;00m \u001b[38;5;28mself\u001b[39m\u001b[38;5;241m.\u001b[39m_read_only_attrs:\n\u001b[0;32m    366\u001b[0m     \u001b[38;5;28;01mraise\u001b[39;00m \u001b[38;5;167;01mAttributeError\u001b[39;00m(\u001b[38;5;124m\"\u001b[39m\u001b[38;5;124mAttribute \u001b[39m\u001b[38;5;132;01m{}\u001b[39;00m\u001b[38;5;124m is read-only!\u001b[39m\u001b[38;5;124m\"\u001b[39m\u001b[38;5;241m.\u001b[39mformat(name))\n\u001b[1;32m--> 367\u001b[0m \u001b[38;5;28;43msuper\u001b[39;49m\u001b[43m(\u001b[49m\u001b[43mDisableNewAttr\u001b[49m\u001b[43m,\u001b[49m\u001b[43m \u001b[49m\u001b[38;5;28;43mself\u001b[39;49m\u001b[43m)\u001b[49m\u001b[38;5;241;43m.\u001b[39;49m\u001b[38;5;21;43m__setattr__\u001b[39;49m\u001b[43m(\u001b[49m\u001b[43mname\u001b[49m\u001b[43m,\u001b[49m\u001b[43m \u001b[49m\u001b[43mvalue\u001b[49m\u001b[43m)\u001b[49m\n",
      "File \u001b[1;32mF:\\programs\\ChipWhisperer5_64\\cw\\home\\portable\\WPy64-31080\\python-3.10.8.amd64\\lib\\site-packages\\chipwhisperer\\capture\\scopes\\_OpenADCInterface.py:1570\u001b[0m, in \u001b[0;36mTriggerSettings.samples\u001b[1;34m(self, samples)\u001b[0m\n\u001b[0;32m   1567\u001b[0m     \u001b[38;5;28;01mif\u001b[39;00m diff \u001b[38;5;241m>\u001b[39m \u001b[38;5;241m0\u001b[39m:\n\u001b[0;32m   1568\u001b[0m         scope_logger\u001b[38;5;241m.\u001b[39mwarning(\u001b[38;5;124m\"\u001b[39m\u001b[38;5;124mSakura G samples must be divisible by 12, rounding up to \u001b[39m\u001b[38;5;132;01m{}\u001b[39;00m\u001b[38;5;124m...\u001b[39m\u001b[38;5;124m\"\u001b[39m\u001b[38;5;241m.\u001b[39mformat(samples))\n\u001b[1;32m-> 1570\u001b[0m \u001b[38;5;28;01mif\u001b[39;00m \u001b[38;5;28;43mself\u001b[39;49m\u001b[38;5;241;43m.\u001b[39;49m\u001b[43m_get_fifo_fill_mode\u001b[49m\u001b[43m(\u001b[49m\u001b[43m)\u001b[49m \u001b[38;5;241m==\u001b[39m \u001b[38;5;124m\"\u001b[39m\u001b[38;5;124msegment\u001b[39m\u001b[38;5;124m\"\u001b[39m:\n\u001b[0;32m   1571\u001b[0m     diff \u001b[38;5;241m=\u001b[39m (\u001b[38;5;241m3\u001b[39m \u001b[38;5;241m-\u001b[39m (samples \u001b[38;5;241m-\u001b[39m \u001b[38;5;241m1\u001b[39m) \u001b[38;5;241m%\u001b[39m \u001b[38;5;241m3\u001b[39m)\n\u001b[0;32m   1572\u001b[0m     samples \u001b[38;5;241m+\u001b[39m\u001b[38;5;241m=\u001b[39m diff\n",
      "File \u001b[1;32mF:\\programs\\ChipWhisperer5_64\\cw\\home\\portable\\WPy64-31080\\python-3.10.8.amd64\\lib\\site-packages\\chipwhisperer\\capture\\scopes\\_OpenADCInterface.py:1783\u001b[0m, in \u001b[0;36mTriggerSettings._get_fifo_fill_mode\u001b[1;34m(self)\u001b[0m\n\u001b[0;32m   1782\u001b[0m \u001b[38;5;28;01mdef\u001b[39;00m \u001b[38;5;21m_get_fifo_fill_mode\u001b[39m(\u001b[38;5;28mself\u001b[39m):\n\u001b[1;32m-> 1783\u001b[0m     result \u001b[38;5;241m=\u001b[39m \u001b[38;5;28;43mself\u001b[39;49m\u001b[38;5;241;43m.\u001b[39;49m\u001b[43moa\u001b[49m\u001b[38;5;241;43m.\u001b[39;49m\u001b[43msendMessage\u001b[49m\u001b[43m(\u001b[49m\u001b[43mCODE_READ\u001b[49m\u001b[43m,\u001b[49m\u001b[43m \u001b[49m\u001b[43mADDR_ADVCLK\u001b[49m\u001b[43m,\u001b[49m\u001b[43m \u001b[49m\u001b[43mmaxResp\u001b[49m\u001b[38;5;241;43m=\u001b[39;49m\u001b[38;5;241;43m4\u001b[39;49m\u001b[43m)\u001b[49m\n\u001b[0;32m   1784\u001b[0m     mode \u001b[38;5;241m=\u001b[39m result[\u001b[38;5;241m3\u001b[39m] \u001b[38;5;241m&\u001b[39m \u001b[38;5;241m0x30\u001b[39m\n\u001b[0;32m   1786\u001b[0m     \u001b[38;5;28;01mif\u001b[39;00m mode \u001b[38;5;241m==\u001b[39m \u001b[38;5;241m0x00\u001b[39m:\n",
      "File \u001b[1;32mF:\\programs\\ChipWhisperer5_64\\cw\\home\\portable\\WPy64-31080\\python-3.10.8.amd64\\lib\\site-packages\\chipwhisperer\\capture\\scopes\\_OpenADCInterface.py:225\u001b[0m, in \u001b[0;36mOpenADCInterface.sendMessage\u001b[1;34m(self, mode, address, payload, Validate, maxResp, readMask)\u001b[0m\n\u001b[0;32m    222\u001b[0m         scope_logger\u001b[38;5;241m.\u001b[39mwarning(\u001b[38;5;124m\"\u001b[39m\u001b[38;5;124mThe error trace below will show you what led to this:\u001b[39m\u001b[38;5;124m\"\u001b[39m)\n\u001b[0;32m    223\u001b[0m         \u001b[38;5;28;01mraise\u001b[39;00m \u001b[38;5;167;01mValueError\u001b[39;00m\n\u001b[1;32m--> 225\u001b[0m     \u001b[38;5;28;01mreturn\u001b[39;00m \u001b[38;5;28mbytearray\u001b[39m(\u001b[38;5;28;43mself\u001b[39;49m\u001b[38;5;241;43m.\u001b[39;49m\u001b[43mserial\u001b[49m\u001b[38;5;241;43m.\u001b[39;49m\u001b[43mcmdReadMem\u001b[49m\u001b[43m(\u001b[49m\u001b[43maddress\u001b[49m\u001b[43m,\u001b[49m\u001b[43m \u001b[49m\u001b[43mdatalen\u001b[49m\u001b[43m)\u001b[49m)\n\u001b[0;32m    227\u001b[0m \u001b[38;5;28;01melse\u001b[39;00m:\n\u001b[0;32m    228\u001b[0m     \u001b[38;5;66;03m# Write output to memory\u001b[39;00m\n\u001b[0;32m    229\u001b[0m     \u001b[38;5;28mself\u001b[39m\u001b[38;5;241m.\u001b[39mserial\u001b[38;5;241m.\u001b[39mcmdWriteMem(address, pba)\n",
      "File \u001b[1;32mF:\\programs\\ChipWhisperer5_64\\cw\\home\\portable\\WPy64-31080\\python-3.10.8.amd64\\lib\\site-packages\\chipwhisperer\\hardware\\naeusb\\naeusb.py:757\u001b[0m, in \u001b[0;36mNAEUSB.cmdReadMem\u001b[1;34m(self, addr, dlen)\u001b[0m\n\u001b[0;32m    751\u001b[0m \u001b[38;5;28;01mdef\u001b[39;00m \u001b[38;5;21mcmdReadMem\u001b[39m(\u001b[38;5;28mself\u001b[39m, addr : \u001b[38;5;28mint\u001b[39m, dlen : \u001b[38;5;28mint\u001b[39m) \u001b[38;5;241m-\u001b[39m\u001b[38;5;241m>\u001b[39m \u001b[38;5;28mbytearray\u001b[39m:\n\u001b[0;32m    752\u001b[0m \u001b[38;5;250m    \u001b[39m\u001b[38;5;124;03m\"\"\"\u001b[39;00m\n\u001b[0;32m    753\u001b[0m \u001b[38;5;124;03m    Send command to read over external memory interface from FPGA. Automatically\u001b[39;00m\n\u001b[0;32m    754\u001b[0m \u001b[38;5;124;03m    decides to use control-transfer or bulk-endpoint transfer based on data length.\u001b[39;00m\n\u001b[0;32m    755\u001b[0m \u001b[38;5;124;03m    \"\"\"\u001b[39;00m\n\u001b[1;32m--> 757\u001b[0m     \u001b[38;5;28;01mreturn\u001b[39;00m \u001b[38;5;28;43mself\u001b[39;49m\u001b[38;5;241;43m.\u001b[39;49m\u001b[43musbserializer\u001b[49m\u001b[38;5;241;43m.\u001b[39;49m\u001b[43mcmdReadMem\u001b[49m\u001b[43m(\u001b[49m\u001b[43maddr\u001b[49m\u001b[43m,\u001b[49m\u001b[43m \u001b[49m\u001b[43mdlen\u001b[49m\u001b[43m)\u001b[49m\n",
      "File \u001b[1;32mF:\\programs\\ChipWhisperer5_64\\cw\\home\\portable\\WPy64-31080\\python-3.10.8.amd64\\lib\\site-packages\\chipwhisperer\\hardware\\naeusb\\naeusb.py:511\u001b[0m, in \u001b[0;36mNAEUSB_Backend.cmdReadMem\u001b[1;34m(self, addr, dlen)\u001b[0m\n\u001b[0;32m    509\u001b[0m pload\u001b[38;5;241m.\u001b[39mextend(packuint32(addr))\n\u001b[0;32m    510\u001b[0m \u001b[38;5;28;01mtry\u001b[39;00m:\n\u001b[1;32m--> 511\u001b[0m     \u001b[38;5;28;43mself\u001b[39;49m\u001b[38;5;241;43m.\u001b[39;49m\u001b[43msendCtrl\u001b[49m\u001b[43m(\u001b[49m\u001b[43mcmd\u001b[49m\u001b[43m,\u001b[49m\u001b[43m \u001b[49m\u001b[43mdata\u001b[49m\u001b[38;5;241;43m=\u001b[39;49m\u001b[43mpload\u001b[49m\u001b[43m)\u001b[49m\n\u001b[0;32m    512\u001b[0m \u001b[38;5;28;01mexcept\u001b[39;00m usb1\u001b[38;5;241m.\u001b[39mUSBErrorPipe:\n\u001b[0;32m    513\u001b[0m     naeusb_logger\u001b[38;5;241m.\u001b[39minfo(\u001b[38;5;124m\"\u001b[39m\u001b[38;5;124mAttempting pipe error fix - typically safe to ignore\u001b[39m\u001b[38;5;124m\"\u001b[39m)\n",
      "File \u001b[1;32mF:\\programs\\ChipWhisperer5_64\\cw\\home\\portable\\WPy64-31080\\python-3.10.8.amd64\\lib\\site-packages\\chipwhisperer\\hardware\\naeusb\\naeusb.py:479\u001b[0m, in \u001b[0;36mNAEUSB_Backend.sendCtrl\u001b[1;34m(self, cmd, value, data)\u001b[0m\n\u001b[0;32m    475\u001b[0m \u001b[38;5;66;03m# Vendor-specific, OUT, interface control transfer\u001b[39;00m\n\u001b[0;32m    476\u001b[0m naeusb_logger\u001b[38;5;241m.\u001b[39mdebug(\u001b[38;5;124m\"\u001b[39m\u001b[38;5;124mWRITE_CTRL: bmRequestType: \u001b[39m\u001b[38;5;132;01m{:02X}\u001b[39;00m\u001b[38;5;124m, \u001b[39m\u001b[38;5;130;01m\\\u001b[39;00m\n\u001b[0;32m    477\u001b[0m \u001b[38;5;124m            bRequest: \u001b[39m\u001b[38;5;132;01m{:02X}\u001b[39;00m\u001b[38;5;124m, wValue: \u001b[39m\u001b[38;5;132;01m{:04X}\u001b[39;00m\u001b[38;5;124m, wIndex: \u001b[39m\u001b[38;5;132;01m{:04X}\u001b[39;00m\u001b[38;5;124m, data: \u001b[39m\u001b[38;5;132;01m{}\u001b[39;00m\u001b[38;5;124m\"\u001b[39m\u001b[38;5;241m.\u001b[39mformat(\u001b[38;5;241m0x41\u001b[39m, cmd, \\\n\u001b[0;32m    478\u001b[0m                 value, \u001b[38;5;241m0\u001b[39m, data))\n\u001b[1;32m--> 479\u001b[0m \u001b[38;5;28;43mself\u001b[39;49m\u001b[38;5;241;43m.\u001b[39;49m\u001b[43mhandle\u001b[49m\u001b[38;5;241;43m.\u001b[39;49m\u001b[43mcontrolWrite\u001b[49m(\u001b[38;5;241m0x41\u001b[39m, cmd, value, \u001b[38;5;241m0\u001b[39m, data, timeout\u001b[38;5;241m=\u001b[39m\u001b[38;5;28mself\u001b[39m\u001b[38;5;241m.\u001b[39m_timeout)\n",
      "\u001b[1;31mAttributeError\u001b[0m: 'NoneType' object has no attribute 'controlWrite'"
     ]
    }
   ],
   "source": [
    "\n",
    "# function\n",
    "def setup():\n",
    "    # runs once in the start -> prints returned\n",
    "    # load(scope, \"../c-files/???\", env)\n",
    "    load(scope, \"masked-decode-inside-test\", env)\n",
    "    time.sleep(0.1)\n",
    "    \n",
    "    # print(date_str())\n",
    "    pass\n",
    "\n",
    "current_key = None\n",
    "current_rand = None\n",
    "def execute(index, op, t):\n",
    "    global current_key, current_rand\n",
    "\n",
    "    FI_HD = [0 for i in range(127)]\n",
    "    FI_PUF = [0 for i in range(127)]\n",
    "    if op == \"0\":\n",
    "        posture(target,'a', bytearray([0]*4), 4)\n",
    "    elif op ==\"1\":\n",
    "        posture(target,'a', bytearray([127]*4), 4)\n",
    "    else:\n",
    "        raise \"ERROR\"\n",
    "    p_temp = p0.sample(byte=False)\n",
    "    k_temp = k0\n",
    "    \n",
    "        \n",
    "    rand = [random.randrange(2) for _ in range(64)]\n",
    "    mem = xor(p_temp, s.encode(k_temp), FI_HD)\n",
    "    posture(target,'k', get_bytes(mem), 16)\n",
    "    p_temp = xor(FI_PUF, p_temp)\n",
    "    current_key = k_temp\n",
    "    current_rand = rand\n",
    "    return get_bytes(p_temp + [0] + s.encode(rand))\n",
    "\n",
    "def ending(fdb, op, t):\n",
    "    if scope.adc.trig_count > scope.adc.samples * env.segments:\n",
    "        print(scope.adc.trig_count)\n",
    "    if current_key != xor(current_rand,get_bits(fdb)[:64]):\n",
    "        print(s.encode(current_key))\n",
    "        print(current_key)\n",
    "        print(get_bits(fdb))\n",
    "        print(\"ahHAHAHA\")\n",
    "    # runs after each CW command -> no return\n",
    "    # fdb - data from CW\n",
    "    # op - operation name\n",
    "    # t - iteration # (seperate for each op)\n",
    "    pass\n",
    "\n",
    "\n",
    "s = Scheme() # scheme execution helper\n",
    "\n",
    "\n",
    "p0 = [random.randrange(2) for _ in range(127)]\n",
    "k0 = [random.randrange(2) for _ in range(64)]\n",
    "unstable = None\n",
    "p0 = PUF(p0, unstable)\n",
    "\n",
    "env = ENV()\n",
    "# operation settings\n",
    "prefix_name = \"masked\"\n",
    "env.root = \"D:/programs/traces/MASKED\"\n",
    "env.execute = execute\n",
    "env.ending = ending\n",
    "env.jupyter = \"test_Test\" # current notebook name\n",
    "env.operations = operations = [\"0\",\"1\"] # operations list\n",
    "inv = lambda x: operations.index(x)\n",
    "env.subfolder = \"test\" # subfolder name\n",
    "env.TRACES_NUM = 100 # number of traces\n",
    "scope.adc.samples = 24400 # number of samples per execution\n",
    "env.segments = 3 # number of samples per trace\n",
    "env.simulate = False # doesnt do anything for now. should be False\n",
    "env.flush = True\n",
    "env.index = 0\n",
    "env.read = 16\n",
    "env.desc = \"\"\n",
    "env.title = \"\"\n",
    "env.name = prefix_name\n",
    "env.readme = \"\"\n",
    "env.graph = {\"type\":\"time\", \"xlines\": [950, 60900]}\n",
    "\n",
    "\n",
    "scope.clock.adc_src = \"clkgen_x1\"\n",
    "scope.adc.decimate = 1\n",
    "\n",
    "# run loop\n",
    "print(setup())\n",
    "time.sleep(0.1)\n",
    "start_time = date_str()\n",
    "print(start_time)\n",
    "\n",
    "\n",
    "file_names = [f\"file{i}\" for i in range(5)]\n",
    "for file_name in file_names:\n",
    "    status = traces(file_name, scope, target, env)\n",
    "\n",
    "\n",
    "i = 0\n",
    "\n",
    "i += 1\n",
    "env.name = prefix_name+f\"_{i}\"\n",
    "env.title = \"Dividers\"\n",
    "env.desc = \"\"\n",
    "create_tasker(env, file_names, [inv(\"0\"), inv(\"1\")], f\"group{i}\")\n",
    "\n",
    "\n",
    "\n",
    "env.name = prefix_name\n",
    "#remove_files(env, file_names)\n",
    "generate_file(env, globals(), \"start_time\", \"operations\")\n",
    "print(\"done\", date_str())\n",
    "\n",
    "\n",
    "#print(s.encode(current_key))\n",
    "#print(current_key)\n",
    "#print(get_bits(fdb))\n",
    "#next experiment: "
   ]
  },
  {
   "cell_type": "code",
   "execution_count": null,
   "id": "8c297f47-7623-4b0a-8d06-f0760fd7dfaa",
   "metadata": {},
   "outputs": [],
   "source": [
    "execute mission\n",
    "# run loop\n",
    "print(setup())\n",
    "time.sleep(0.1)\n",
    "start_time = date_str()\n",
    "for i in range(1,6):\n",
    "    status = traces(\"file_name\", 0)\n",
    "split_file([\"file_name\"], [0, 1], \"result\")\n",
    "remove_files([\"file_name\"])\n",
    "generate_file(\"start_time\", \"operations\")\n",
    "print(\"done\")"
   ]
  },
  {
   "cell_type": "code",
   "execution_count": null,
   "id": "e00f498c-0bd6-459e-a2de-05a3324ebcd6",
   "metadata": {},
   "outputs": [],
   "source": []
  }
 ],
 "metadata": {
  "kernelspec": {
   "display_name": "Python 3 (ipykernel)",
   "language": "python",
   "name": "python3"
  },
  "language_info": {
   "codemirror_mode": {
    "name": "ipython",
    "version": 3
   },
   "file_extension": ".py",
   "mimetype": "text/x-python",
   "name": "python",
   "nbconvert_exporter": "python",
   "pygments_lexer": "ipython3",
   "version": "3.10.8"
  }
 },
 "nbformat": 4,
 "nbformat_minor": 5
}
