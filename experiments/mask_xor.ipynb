{
 "cells": [
  {
   "cell_type": "code",
   "execution_count": 3,
   "id": "52fb3fe2-baa2-4f46-9bad-882515bdc6e6",
   "metadata": {},
   "outputs": [],
   "source": [
    "scope.dis()\n",
    "target.dis()\n",
    "exit()"
   ]
  },
  {
   "cell_type": "code",
   "execution_count": 2,
   "id": "f7b3c940-4053-4cc4-979a-f911bfffcdbb",
   "metadata": {},
   "outputs": [],
   "source": [
    "import chipwhisperer as cw\n",
    "import sys\n",
    "sys.path.append(\"../imports\")\n",
    "from helpers import *\n",
    "from scheme import Scheme\n",
    "from taskers import *\n",
    "\n",
    "scope = cw.scope()\n",
    "target = cw.target(scope, cw.targets.SimpleSerial)\n",
    "scope.default_setup()\n",
    "scope.adc.samples=56"
   ]
  },
  {
   "cell_type": "code",
   "execution_count": 13,
   "id": "e00821ec-5187-48fa-b3cf-05e4c5c55c37",
   "metadata": {},
   "outputs": [
    {
     "name": "stdout",
     "output_type": "stream",
     "text": [
      "bytearray(b'\\x00\\x00\\x00\\x00\\x00\\x00\\x00\\x00')\n",
      "56\n"
     ]
    }
   ],
   "source": [
    "\n",
    "#load(scope, \"xor\", None)\n",
    "scope.adc.trig_count \n",
    "target.flush()\n",
    "scope.arm()\n",
    "print(get_bytes([0 for i in range(64)]))\n",
    "target.simpleserial_write('p', get_bytes([0 for i in range(64)]))\n",
    "ret = scope.capture()\n",
    "if ret:\n",
    "    print(\"ERROR\")\n",
    "traces_ = scope.get_last_trace()\n",
    "db = target.simpleserial_read('r', 5)\n",
    "print(scope.adc.trig_count)\n"
   ]
  },
  {
   "cell_type": "code",
   "execution_count": 102,
   "id": "9a4e068c-ae48-40d7-a96d-bdc16acfeae5",
   "metadata": {},
   "outputs": [
    {
     "name": "stdout",
     "output_type": "stream",
     "text": [
      "[0, 0, 1, 0, 1, 1, 0, 0, 0, 1, 1, 1, 0, 1, 0, 1, 0, 0, 1, 0, 1, 0, 1, 0, 0, 1, 1, 1, 0, 0, 1, 1]\n"
     ]
    }
   ],
   "source": [
    "rand = [random.randrange(2) for _ in range(16)]\n",
    "c = list(rand)\n",
    "for i in range(2):\n",
    "    a = c[:8]\n",
    "    b = c[8:]\n",
    "    a = xor(a, lshift(a,3), lshift(a,7))\n",
    "    b = xor(b, lshift(a,1), lshift(a,5))\n",
    "    c = a + b\n",
    "    c = lshift(c,4)\n",
    "rand = rand + c\n",
    "print(rand)"
   ]
  },
  {
   "cell_type": "code",
   "execution_count": 3,
   "id": "bbba34e3-41d3-4bbe-b34e-54ec4f3103f0",
   "metadata": {},
   "outputs": [
    {
     "name": "stdout",
     "output_type": "stream",
     "text": [
      "Detected known STMF32: STM32F302xB(C)/303xB(C)\n",
      "Extended erase (0x44), this can take ten seconds or more\n",
      "Attempting to program 4931 bytes at 0x8000000\n",
      "STM32F Programming flash...\n",
      "STM32F Reading flash...\n",
      "Verified flash OK, 4931 bytes\n",
      "None\n",
      "done 2024-11-20 11-54\n"
     ]
    }
   ],
   "source": [
    "\n",
    "# function\n",
    "def setup():\n",
    "    # runs once in the start -> prints returned\n",
    "    load(scope, \"xor\", env)\n",
    "    # print(date_str())\n",
    "    pass\n",
    "    \n",
    "def execute(index, op, t):\n",
    "    # runs before each CW command -> returned (should be bytearray) is sent to CW\n",
    "    # index - info passed from user\n",
    "    # op - operation name\n",
    "    # t - iteration # (seperate for each op)\n",
    "    rand =[random.randrange(2) for _ in range(32)]\n",
    "    if op==\"18\":\n",
    "        p_temp = p18\n",
    "    elif op==\"21\":\n",
    "        p_temp = p21\n",
    "    elif op==\"16_1\":\n",
    "        p_temp = p16_1\n",
    "    elif op==\"16_2\":\n",
    "        p_temp = p16_2\n",
    "    elif op==\"tv\":\n",
    "        pz_temp = [0]*16 + [1]*16\n",
    "        p_temp = random.sample(pz_temp, 32)\n",
    "    else:\n",
    "        raise \"error\"\n",
    "    return get_bytes(p_temp + rand)\n",
    "\n",
    "def ending(fdb, op, t):\n",
    "    # runs after each CW command -> no return\n",
    "    # fdb - data from CW\n",
    "    # op - operation name\n",
    "    # t - iteration # (seperate for each op)\n",
    "    pass\n",
    "\n",
    "pz = [0]*16 + [1]*16\n",
    "p16_1 = random.sample(pz, 32)\n",
    "\n",
    "pz = [0]*16 + [1]*16\n",
    "p16_2 = random.sample(pz, 32)\n",
    "\n",
    "pz = [0]*14 + [1]*18\n",
    "p18 = random.sample(pz, 32)\n",
    "\n",
    "pz = [0]*11 + [1]*21\n",
    "p21 = random.sample(pz, 32)\n",
    "\n",
    "env = ENV()\n",
    "# operation settings\n",
    "prefix_name = \"masked\"\n",
    "env.root = \"D:/programs/traces/XOR\"\n",
    "env.jupyter = \"mask_xor\"\n",
    "env.execute = execute\n",
    "env.ending = ending\n",
    "env.operations = operations = [\"tv\", \"16_1\", \"16_2\", \"18\", \"21\"] # operations list\n",
    "inv = lambda x: operations.index(x)\n",
    "env.subfolder = \"gap4\" # subfolder name\n",
    "env.TRACES_NUM = 100_000 # number of traces\n",
    "scope.adc.samples = 56 # number of samples per trace\n",
    "env.simulate = False # doesnt do anything for now. should be False\n",
    "env.flush = True\n",
    "env.index = 0\n",
    "env.read = 5\n",
    "env.desc = \"\"\n",
    "env.graph = {\"type\": \"time\"}\n",
    "env.title = \"XOR masking exeriment\"\n",
    "env.name = prefix_name\n",
    "env.readme = f\"{p16_1}\\n{p16_2}\\n{p18}\\n{p21}\"\n",
    "s = Scheme() # scheme execution helper\n",
    "\n",
    "# run loop\n",
    "print(setup())\n",
    "time.sleep(0.1)\n",
    "start_time = date_str()\n",
    "\n",
    "file_names = [f\"file{i}\" for i in range(4)]\n",
    "for file_name in file_names:\n",
    "    status = traces(file_name, scope, target, env)\n",
    "\n",
    "i = 0\n",
    "\n",
    "i += 1\n",
    "env.name = prefix_name+f\"_{i}\"\n",
    "env.title = \"f_{p0} vs f_{p1}, mask <= $^{32}\"\n",
    "env.desc = \"|f_{p0}| = 16 but f_{p0} random each time, |f_{p1}| = 16\"\n",
    "split_file(env, file_names, [inv(\"tv\"), inv(\"16_1\")], f\"group{i}\")\n",
    "\n",
    "i += 1\n",
    "env.name = prefix_name+f\"_{i}\"\n",
    "env.title = \"f_{p0} vs f_{p1}, mask <= $^{32}\"\n",
    "env.desc = \"|f_{p0}| = 16 but f_{p0} random each time, |f_{p1}| = 16\"\n",
    "split_file(env, file_names, [inv(\"tv\"), inv(\"16_2\")], f\"group{i}\")\n",
    "\n",
    "i += 1\n",
    "env.name = prefix_name+f\"_{i}\"\n",
    "env.title = \"f_{p0} vs f_{p1}, mask <= $^{32}\"\n",
    "env.desc = \"|f_{p0}| = |f_{p1}| = 16\"\n",
    "split_file(env, file_names, [inv(\"16_1\"), inv(\"16_2\")], f\"group{i}\")\n",
    "\n",
    "i += 1\n",
    "env.name = prefix_name+f\"_{i}\"\n",
    "env.title = \"f_{p0} vs f_{p1}, mask <= $^{32}\"\n",
    "env.desc = \"|f_{p0}| = 16, |f_{p1}| = 18\"\n",
    "split_file(env, file_names, [inv(\"16_1\"), inv(\"18\")], f\"group{i}\")\n",
    "\n",
    "i += 1\n",
    "env.name = prefix_name+f\"_{i}\"\n",
    "env.title = \"f_{p0} vs f_{p1}, mask <= $^{32}\"\n",
    "env.desc = \"|f_{p0}| = 16, |f_{p1}| = 21\"\n",
    "split_file(env, file_names, [inv(\"16_1\"), inv(\"21\")], f\"group{i}\")\n",
    "\n",
    "i += 1\n",
    "env.name = prefix_name+f\"_{i}\"\n",
    "env.title = \"f_{p0} vs f_{p1}, mask <= $^{32}\"\n",
    "env.desc = \"|f_{p0}| = 16, |f_{p1}| = 18\"\n",
    "split_file(env, file_names, [inv(\"16_2\"), inv(\"18\")], f\"group{i}\")\n",
    "\n",
    "i += 1\n",
    "env.name = prefix_name+f\"_{i}\"\n",
    "env.title = \"f_{p0} vs f_{p1}, mask <= $^{32}\"\n",
    "env.desc = \"|f_{p0}| = 16, |f_{p1}| = 21\"\n",
    "split_file(env, file_names, [inv(\"16_2\"), inv(\"21\")], f\"group{i}\")\n",
    "\n",
    " \n",
    "remove_files(env, file_names)\n",
    "\n",
    "env.name = prefix_name\n",
    "generate_file(env, globals(), \"start_time\", \"operations\")\n",
    "print(\"done\", date_str())\n",
    "\n",
    "# redo with register operations\n"
   ]
  },
  {
   "cell_type": "code",
   "execution_count": null,
   "id": "a5bc9903-d709-4c2b-9b57-4d12ed418f67",
   "metadata": {},
   "outputs": [],
   "source": [
    "% TODO: ADD TVLA plus zero word plus different weighted words"
   ]
  },
  {
   "cell_type": "code",
   "execution_count": null,
   "id": "f238abd7-91f8-4a10-9a41-8635bdda62ac",
   "metadata": {},
   "outputs": [],
   "source": [
    "file_names = [f\"group{i}\" for i in range(1,8)]\n",
    "change_graph(env, file_names, {\"type\": \"time\"})"
   ]
  },
  {
   "cell_type": "code",
   "execution_count": null,
   "id": "8c297f47-7623-4b0a-8d06-f0760fd7dfaa",
   "metadata": {},
   "outputs": [],
   "source": [
    "execute mission\n",
    "# run loop\n",
    "print(setup())\n",
    "time.sleep(0.1)\n",
    "start_time = date_str()\n",
    "for i in range(1,6):\n",
    "    status = traces(\"file_name\", 0)\n",
    "split_file([\"file_name\"], [0, 1], \"result\")\n",
    "remove_files([\"file_name\"])\n",
    "generate_file(\"start_time\", \"operations\")\n",
    "print(\"done\")"
   ]
  }
 ],
 "metadata": {
  "kernelspec": {
   "display_name": "Python 3 (ipykernel)",
   "language": "python",
   "name": "python3"
  },
  "language_info": {
   "codemirror_mode": {
    "name": "ipython",
    "version": 3
   },
   "file_extension": ".py",
   "mimetype": "text/x-python",
   "name": "python",
   "nbconvert_exporter": "python",
   "pygments_lexer": "ipython3",
   "version": "3.10.8"
  }
 },
 "nbformat": 4,
 "nbformat_minor": 5
}
