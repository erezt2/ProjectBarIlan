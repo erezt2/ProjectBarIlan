{
 "cells": [
  {
   "cell_type": "code",
   "execution_count": null,
   "id": "52fb3fe2-baa2-4f46-9bad-882515bdc6e6",
   "metadata": {},
   "outputs": [],
   "source": [
    "scope.dis()\n",
    "target.dis()"
   ]
  },
  {
   "cell_type": "code",
   "execution_count": 1,
   "id": "f7b3c940-4053-4cc4-979a-f911bfffcdbb",
   "metadata": {},
   "outputs": [
    {
     "ename": "OSError",
     "evalue": "Unable to communicate with found ChipWhisperer. Check that \nanother process isn't connected to it and that you have permission to communicate with it.",
     "output_type": "error",
     "traceback": [
      "\u001b[1;31m---------------------------------------------------------------------------\u001b[0m",
      "\u001b[1;31mOSError\u001b[0m                                   Traceback (most recent call last)",
      "Cell \u001b[1;32mIn[1], line 8\u001b[0m\n\u001b[0;32m      5\u001b[0m \u001b[38;5;28;01mfrom\u001b[39;00m \u001b[38;5;21;01mscheme\u001b[39;00m \u001b[38;5;28;01mimport\u001b[39;00m Scheme\n\u001b[0;32m      6\u001b[0m \u001b[38;5;28;01mfrom\u001b[39;00m \u001b[38;5;21;01mtaskers\u001b[39;00m \u001b[38;5;28;01mimport\u001b[39;00m \u001b[38;5;241m*\u001b[39m\n\u001b[1;32m----> 8\u001b[0m scope \u001b[38;5;241m=\u001b[39m \u001b[43mcw\u001b[49m\u001b[38;5;241;43m.\u001b[39;49m\u001b[43mscope\u001b[49m\u001b[43m(\u001b[49m\u001b[43m)\u001b[49m\n\u001b[0;32m      9\u001b[0m target \u001b[38;5;241m=\u001b[39m cw\u001b[38;5;241m.\u001b[39mtarget(scope, cw\u001b[38;5;241m.\u001b[39mtargets\u001b[38;5;241m.\u001b[39mSimpleSerial)\n\u001b[0;32m     10\u001b[0m scope\u001b[38;5;241m.\u001b[39mdefault_setup()\n",
      "File \u001b[1;32mF:\\programs\\ChipWhisperer5_64\\cw\\home\\portable\\WPy64-31080\\python-3.10.8.amd64\\lib\\site-packages\\chipwhisperer\\__init__.py:384\u001b[0m, in \u001b[0;36mscope\u001b[1;34m(scope_type, name, sn, idProduct, bitstream, force, prog_speed, **kwargs)\u001b[0m\n\u001b[0;32m    381\u001b[0m         \u001b[38;5;28;01mraise\u001b[39;00m \u001b[38;5;167;01mValueError\u001b[39;00m\n\u001b[0;32m    383\u001b[0m \u001b[38;5;28;01mif\u001b[39;00m scope_type \u001b[38;5;129;01mis\u001b[39;00m \u001b[38;5;28;01mNone\u001b[39;00m:\n\u001b[1;32m--> 384\u001b[0m     scope_type \u001b[38;5;241m=\u001b[39m get_cw_type(\u001b[38;5;241m*\u001b[39m\u001b[38;5;241m*\u001b[39mkwargs)\n\u001b[0;32m    385\u001b[0m rtn : scopes\u001b[38;5;241m.\u001b[39mScopeTypes \u001b[38;5;241m=\u001b[39m scope_type()\n\u001b[0;32m    386\u001b[0m \u001b[38;5;28;01mtry\u001b[39;00m:\n",
      "File \u001b[1;32mF:\\programs\\ChipWhisperer5_64\\cw\\home\\portable\\WPy64-31080\\python-3.10.8.amd64\\lib\\site-packages\\chipwhisperer\\common\\utils\\util.py:522\u001b[0m, in \u001b[0;36mget_cw_type\u001b[1;34m(sn, idProduct, hw_location, **kwargs)\u001b[0m\n\u001b[0;32m    519\u001b[0m     possible_ids \u001b[38;5;241m=\u001b[39m [\u001b[38;5;241m0xace0\u001b[39m, \u001b[38;5;241m0xace2\u001b[39m, \u001b[38;5;241m0xace3\u001b[39m, \u001b[38;5;241m0xace5\u001b[39m]\n\u001b[0;32m    521\u001b[0m cwusb \u001b[38;5;241m=\u001b[39m NAEUSB_Backend()\n\u001b[1;32m--> 522\u001b[0m device \u001b[38;5;241m=\u001b[39m \u001b[43mcwusb\u001b[49m\u001b[38;5;241;43m.\u001b[39;49m\u001b[43mfind\u001b[49m\u001b[43m(\u001b[49m\u001b[43mserial_number\u001b[49m\u001b[38;5;241;43m=\u001b[39;49m\u001b[43msn\u001b[49m\u001b[43m,\u001b[49m\u001b[43m \u001b[49m\u001b[43midProduct\u001b[49m\u001b[38;5;241;43m=\u001b[39;49m\u001b[43mpossible_ids\u001b[49m\u001b[43m,\u001b[49m\u001b[43m \u001b[49m\u001b[43mhw_location\u001b[49m\u001b[38;5;241;43m=\u001b[39;49m\u001b[43mhw_location\u001b[49m\u001b[43m)\u001b[49m\n\u001b[0;32m    523\u001b[0m name \u001b[38;5;241m=\u001b[39m device\u001b[38;5;241m.\u001b[39mgetProduct()\n\u001b[0;32m    524\u001b[0m cwusb\u001b[38;5;241m.\u001b[39musb_ctx\u001b[38;5;241m.\u001b[39mclose()\n",
      "File \u001b[1;32mF:\\programs\\ChipWhisperer5_64\\cw\\home\\portable\\WPy64-31080\\python-3.10.8.amd64\\lib\\site-packages\\chipwhisperer\\hardware\\naeusb\\naeusb.py:342\u001b[0m, in \u001b[0;36mNAEUSB_Backend.find\u001b[1;34m(self, serial_number, idProduct, hw_location)\u001b[0m\n\u001b[0;32m    339\u001b[0m \u001b[38;5;28;01mdef\u001b[39;00m \u001b[38;5;21mfind\u001b[39m(\u001b[38;5;28mself\u001b[39m, serial_number : Optional[\u001b[38;5;28mstr\u001b[39m]\u001b[38;5;241m=\u001b[39m\u001b[38;5;28;01mNone\u001b[39;00m, idProduct : Optional[List[\u001b[38;5;28mint\u001b[39m]]\u001b[38;5;241m=\u001b[39m\u001b[38;5;28;01mNone\u001b[39;00m, \n\u001b[0;32m    340\u001b[0m     hw_location : Optional[Tuple[\u001b[38;5;28mint\u001b[39m, \u001b[38;5;28mint\u001b[39m]]\u001b[38;5;241m=\u001b[39m\u001b[38;5;28;01mNone\u001b[39;00m) \u001b[38;5;241m-\u001b[39m\u001b[38;5;241m>\u001b[39m usb1\u001b[38;5;241m.\u001b[39mUSBDevice:\n\u001b[0;32m    341\u001b[0m     \u001b[38;5;66;03m# check if we got anything\u001b[39;00m\n\u001b[1;32m--> 342\u001b[0m     dev_list \u001b[38;5;241m=\u001b[39m \u001b[38;5;28;43mself\u001b[39;49m\u001b[38;5;241;43m.\u001b[39;49m\u001b[43mget_possible_devices\u001b[49m\u001b[43m(\u001b[49m\u001b[43midProduct\u001b[49m\u001b[43m,\u001b[49m\u001b[43m \u001b[49m\u001b[43mattempt_access\u001b[49m\u001b[38;5;241;43m=\u001b[39;49m\u001b[43m(\u001b[49m\u001b[38;5;129;43;01mnot\u001b[39;49;00m\u001b[43m \u001b[49m\u001b[43mhw_location\u001b[49m\u001b[43m)\u001b[49m\u001b[43m)\u001b[49m\n\u001b[0;32m    343\u001b[0m     \u001b[38;5;28;01mif\u001b[39;00m \u001b[38;5;28mlen\u001b[39m(dev_list) \u001b[38;5;241m==\u001b[39m \u001b[38;5;241m0\u001b[39m:\n\u001b[0;32m    344\u001b[0m         \u001b[38;5;28;01mraise\u001b[39;00m \u001b[38;5;167;01mOSError\u001b[39;00m(\u001b[38;5;124m\"\u001b[39m\u001b[38;5;124mCould not find ChipWhisperer. Is it connected?\u001b[39m\u001b[38;5;124m\"\u001b[39m)\n",
      "File \u001b[1;32mF:\\programs\\ChipWhisperer5_64\\cw\\home\\portable\\WPy64-31080\\python-3.10.8.amd64\\lib\\site-packages\\chipwhisperer\\hardware\\naeusb\\naeusb.py:466\u001b[0m, in \u001b[0;36mNAEUSB_Backend.get_possible_devices\u001b[1;34m(self, idProduct, dictonly, attempt_access)\u001b[0m\n\u001b[0;32m    463\u001b[0m                 dev_list\u001b[38;5;241m.\u001b[39mremove(dev)\n\u001b[0;32m    465\u001b[0m         \u001b[38;5;28;01mif\u001b[39;00m \u001b[38;5;28mlen\u001b[39m(dev_list) \u001b[38;5;241m==\u001b[39m \u001b[38;5;241m0\u001b[39m:\n\u001b[1;32m--> 466\u001b[0m             \u001b[38;5;28;01mraise\u001b[39;00m \u001b[38;5;167;01mOSError\u001b[39;00m(\u001b[38;5;124m\"\u001b[39m\u001b[38;5;124mUnable to communicate with found ChipWhisperer. Check that \u001b[39m\u001b[38;5;130;01m\\\u001b[39;00m\n\u001b[0;32m    467\u001b[0m \u001b[38;5;130;01m\\n\u001b[39;00m\u001b[38;5;124manother process isn\u001b[39m\u001b[38;5;124m'\u001b[39m\u001b[38;5;124mt connected to it and that you have permission to communicate with it.\u001b[39m\u001b[38;5;124m\"\u001b[39m)\n\u001b[0;32m    469\u001b[0m         \u001b[38;5;28;01mreturn\u001b[39;00m dev_list\n",
      "\u001b[1;31mOSError\u001b[0m: Unable to communicate with found ChipWhisperer. Check that \nanother process isn't connected to it and that you have permission to communicate with it."
     ]
    }
   ],
   "source": [
    "import chipwhisperer as cw\n",
    "import sys\n",
    "sys.path.append(\"../imports\")\n",
    "from helpers import *\n",
    "from scheme import Scheme\n",
    "from taskers import *\n",
    "\n",
    "scope = cw.scope()\n",
    "target = cw.target(scope, cw.targets.SimpleSerial)\n",
    "scope.default_setup()\n",
    "scope.adc.samples=24400"
   ]
  },
  {
   "cell_type": "code",
   "execution_count": null,
   "id": "b45ce31a-736c-4164-bf42-a054c8941702",
   "metadata": {},
   "outputs": [],
   "source": [
    "# UNMASKED\n",
    "# function\n",
    "def setup():\n",
    "    print(sum(p1.puf))\n",
    "    # runs once in the start -> prints returned\n",
    "    load(\"unmasked\")\n",
    "    pass\n",
    "    \n",
    "def execute(index, op, t):\n",
    "    # runs before each CW command -> returned (should be bytearray) is sent to CW\n",
    "    # index - info passed from user\n",
    "    # op - operation name\n",
    "    # t - iteration # (seperate for each op)\n",
    "    global rand\n",
    "    if op in [\"random\", \"tvla\"]:\n",
    "        p_temp = [random.randrange(2) for _ in range(127)]\n",
    "    elif op == \"set\":\n",
    "        p_temp = p1.puf\n",
    "    elif op == \"zero\":\n",
    "        p_temp = p0.puf\n",
    "    else:\n",
    "        return None\n",
    "    mem = xor(p_temp, s.encode(k))\n",
    "    # posture('k', get_bytes(mem), 16)\n",
    "    p_temp = xor(p_temp, mem) # comment if mem is included\n",
    "    return get_bytes(p_temp)\n",
    "\n",
    "def ending(fdb, op, t):\n",
    "    # runs after each CW command -> True <=> trace isnt taken\n",
    "    # fdb - data from CW\n",
    "    # op - operation name\n",
    "    # t - iteration # (seperate for each op)\n",
    "    if (get_bits(fdb)[:64] != k):\n",
    "        print(\"WRONG!\")\n",
    "        return True\n",
    "    pass\n",
    "\n",
    "# operation settings\n",
    "root = \"F:/programs/traces\"\n",
    "operations = [\"random\", \"tvla\", \"set\", \"zero\"] # operations list\n",
    "subfolder = \"unmasked\" # subfolder name\n",
    "TRACES_NUM = 1000 # number of traces\n",
    "scope.adc.samples = 20000 # number of samples per trace\n",
    "simulate = False # doesnt do anything for now. should be False\n",
    "s = Scheme() # scheme execution helper\n",
    "\n",
    "rand = None\n",
    "p0 = PUF([0 for _ in range(127)]) #PUF([random.randrange(2) for _ in range(127)])\n",
    "p1 = PUF([random.randrange(2) for _ in range(127)]) #PUF([random.randrange(2) for _ in range(127)])\n",
    "k = [random.randrange(2) for _ in range(64)]\n",
    "set_weight = sum(p1.puf)\n",
    "key_weight = sum(k)\n",
    "\n",
    "print(setup())\n",
    "time.sleep(0.1)\n",
    "start_time = date_str()\n",
    "##\n",
    "file_names = [f\"file{i}\" for i in range(2)]\n",
    "for file_name in file_names:\n",
    "    status = traces(file_name, 0)\n",
    "split_file(file_names, [0, 1], \"random\")\n",
    "split_file(file_names, [0, 2], \"set\")\n",
    "split_file(file_names, [0, 3], \"zero\")\n",
    "remove_files(file_names)\n",
    "##\n",
    "generate_file(\"start_time\", \"operations\", \"set_weight\", \"key_weight\")\n",
    "print(\"done\")"
   ]
  }
 ],
 "metadata": {
  "kernelspec": {
   "display_name": "Python 3 (ipykernel)",
   "language": "python",
   "name": "python3"
  },
  "language_info": {
   "codemirror_mode": {
    "name": "ipython",
    "version": 3
   },
   "file_extension": ".py",
   "mimetype": "text/x-python",
   "name": "python",
   "nbconvert_exporter": "python",
   "pygments_lexer": "ipython3",
   "version": "3.10.8"
  }
 },
 "nbformat": 4,
 "nbformat_minor": 5
}
